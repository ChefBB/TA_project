{
 "cells": [
  {
   "cell_type": "code",
   "execution_count": null,
   "metadata": {},
   "outputs": [],
   "source": [
    "import pandas as pd\n",
    "\n",
    "path = '../data/'\n",
    "df = pd.read_csv(path + 'en_lyrics.csv')"
   ]
  },
  {
   "cell_type": "code",
   "execution_count": null,
   "metadata": {},
   "outputs": [],
   "source": [
    "# split stanzas, take into account chorus/verse number\n",
    "def split_into_stanzas(row):\n",
    "    stanzas = row['lyrics'].split('\\n\\n')  # Split by double newlines\n",
    "    stanza_entries = []\n",
    "    for stanza in stanzas:\n",
    "        stanza_entry = row.to_dict()  # Convert all metadata to a dictionary\n",
    "        stanza_entry['stanza'] = stanza.strip()  # Add the stanza\n",
    "        stanza_entries.append(stanza_entry)\n",
    "    return stanza_entries\n",
    "\n",
    "# Transform the dataframe\n",
    "stanza_data = []\n",
    "for _, row in df.iterrows():\n",
    "    stanza_data.extend(split_into_stanzas(row))  # Extend with stanza dictionaries\n",
    "\n",
    "# Create a new dataframe with stanzas\n",
    "stanza_df = pd.DataFrame(stanza_data)\n",
    "\n",
    "# Drop the original 'lyrics' column (optional)\n",
    "stanza_df = stanza_df.drop(columns=['lyrics'])"
   ]
  },
  {
   "cell_type": "code",
   "execution_count": null,
   "metadata": {},
   "outputs": [],
   "source": [
    "# for encoding, sentence_transformers.SentenceTransformer\n",
    "# seems to be the best fit for the task"
   ]
  }
 ],
 "metadata": {
  "kernelspec": {
   "display_name": "Python 3",
   "language": "python",
   "name": "python3"
  },
  "language_info": {
   "codemirror_mode": {
    "name": "ipython",
    "version": 3
   },
   "file_extension": ".py",
   "mimetype": "text/x-python",
   "name": "python",
   "nbconvert_exporter": "python",
   "pygments_lexer": "ipython3",
   "version": "3.11.1"
  }
 },
 "nbformat": 4,
 "nbformat_minor": 2
}
