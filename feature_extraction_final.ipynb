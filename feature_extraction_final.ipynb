{
  "cells": [
    {
      "cell_type": "code",
      "execution_count": 35,
      "metadata": {
        "id": "KOi5uMVnzdNC",
        "outputId": "58c15358-fd86-4a8a-d894-57ebd37141ff"
      },
      "outputs": [
        {
          "name": "stderr",
          "output_type": "stream",
          "text": [
            "[nltk_data] Downloading package stopwords to\n",
            "[nltk_data]     C:\\Users\\cinna\\AppData\\Roaming\\nltk_data...\n",
            "[nltk_data]   Package stopwords is already up-to-date!\n",
            "[nltk_data] Downloading package punkt to\n",
            "[nltk_data]     C:\\Users\\cinna\\AppData\\Roaming\\nltk_data...\n",
            "[nltk_data]   Package punkt is already up-to-date!\n"
          ]
        },
        {
          "data": {
            "text/plain": [
              "True"
            ]
          },
          "execution_count": 35,
          "metadata": {},
          "output_type": "execute_result"
        }
      ],
      "source": [
        "import pandas as pd\n",
        "import numpy as np\n",
        "import gensim\n",
        "import string\n",
        "import re\n",
        "import nltk\n",
        "\n",
        "from nltk.tokenize import word_tokenize\n",
        "from gensim import corpora\n",
        "from sklearn.feature_extraction.text import TfidfVectorizer\n",
        "\n",
        "nltk.download('stopwords')\n",
        "nltk.download('punkt')\n"
      ]
    },
    {
      "cell_type": "code",
      "execution_count": 36,
      "metadata": {
        "id": "uRToyO9XzdNN",
        "outputId": "fc621bd0-0a0a-4b69-8033-be54bf821530"
      },
      "outputs": [],
      "source": [
        "df = pd.read_csv(\"C:\\\\Users\\\\cinna\\\\Desktop\\\\progetto_TA\\\\Data\\\\resampled_data_for_tf_idf.csv\", skipinitialspace=True)"
      ]
    },
    {
      "cell_type": "code",
      "execution_count": 37,
      "metadata": {},
      "outputs": [
        {
          "data": {
            "text/html": [
              "<div>\n",
              "<style scoped>\n",
              "    .dataframe tbody tr th:only-of-type {\n",
              "        vertical-align: middle;\n",
              "    }\n",
              "\n",
              "    .dataframe tbody tr th {\n",
              "        vertical-align: top;\n",
              "    }\n",
              "\n",
              "    .dataframe thead th {\n",
              "        text-align: right;\n",
              "    }\n",
              "</style>\n",
              "<table border=\"1\" class=\"dataframe\">\n",
              "  <thead>\n",
              "    <tr style=\"text-align: right;\">\n",
              "      <th></th>\n",
              "      <th>lemmatized_stanzas</th>\n",
              "      <th>label</th>\n",
              "    </tr>\n",
              "  </thead>\n",
              "  <tbody>\n",
              "    <tr>\n",
              "      <th>0</th>\n",
              "      <td>['crumble', 'into', 'the', 'corner', 'make', '...</td>\n",
              "      <td>anger</td>\n",
              "    </tr>\n",
              "    <tr>\n",
              "      <th>1</th>\n",
              "      <td>['you', 'be', 'hot', 'then', 'you', 'be', 'col...</td>\n",
              "      <td>anger</td>\n",
              "    </tr>\n",
              "    <tr>\n",
              "      <th>2</th>\n",
              "      <td>['I', 'be', 'bear', 'the', 'run', 'kind', 'lea...</td>\n",
              "      <td>anger</td>\n",
              "    </tr>\n",
              "    <tr>\n",
              "      <th>3</th>\n",
              "      <td>['but', 'life', \"'s\", 'like', 'poetry', 'and',...</td>\n",
              "      <td>anger</td>\n",
              "    </tr>\n",
              "    <tr>\n",
              "      <th>4</th>\n",
              "      <td>['you', 'hit', 'I', 'up', 'like', 'hey', 'I', ...</td>\n",
              "      <td>anger</td>\n",
              "    </tr>\n",
              "    <tr>\n",
              "      <th>...</th>\n",
              "      <td>...</td>\n",
              "      <td>...</td>\n",
              "    </tr>\n",
              "    <tr>\n",
              "      <th>27099</th>\n",
              "      <td>['to', 'be', 'honest', 'with', 'you', 'I', 'ha...</td>\n",
              "      <td>trust</td>\n",
              "    </tr>\n",
              "    <tr>\n",
              "      <th>27100</th>\n",
              "      <td>['2', 'you', 'call', 'my', 'name', 'and', 'I',...</td>\n",
              "      <td>trust</td>\n",
              "    </tr>\n",
              "    <tr>\n",
              "      <th>27101</th>\n",
              "      <td>['boomerang', 'boomerang', 'kangaroo', 'tail',...</td>\n",
              "      <td>trust</td>\n",
              "    </tr>\n",
              "    <tr>\n",
              "      <th>27102</th>\n",
              "      <td>['wander', 'alone', 'drink', 'a', 'little', 'w...</td>\n",
              "      <td>trust</td>\n",
              "    </tr>\n",
              "    <tr>\n",
              "      <th>27103</th>\n",
              "      <td>['when', 'you', 'come', 'back', 'from', 'the',...</td>\n",
              "      <td>trust</td>\n",
              "    </tr>\n",
              "  </tbody>\n",
              "</table>\n",
              "<p>27104 rows × 2 columns</p>\n",
              "</div>"
            ],
            "text/plain": [
              "                                      lemmatized_stanzas  label\n",
              "0      ['crumble', 'into', 'the', 'corner', 'make', '...  anger\n",
              "1      ['you', 'be', 'hot', 'then', 'you', 'be', 'col...  anger\n",
              "2      ['I', 'be', 'bear', 'the', 'run', 'kind', 'lea...  anger\n",
              "3      ['but', 'life', \"'s\", 'like', 'poetry', 'and',...  anger\n",
              "4      ['you', 'hit', 'I', 'up', 'like', 'hey', 'I', ...  anger\n",
              "...                                                  ...    ...\n",
              "27099  ['to', 'be', 'honest', 'with', 'you', 'I', 'ha...  trust\n",
              "27100  ['2', 'you', 'call', 'my', 'name', 'and', 'I',...  trust\n",
              "27101  ['boomerang', 'boomerang', 'kangaroo', 'tail',...  trust\n",
              "27102  ['wander', 'alone', 'drink', 'a', 'little', 'w...  trust\n",
              "27103  ['when', 'you', 'come', 'back', 'from', 'the',...  trust\n",
              "\n",
              "[27104 rows x 2 columns]"
            ]
          },
          "execution_count": 37,
          "metadata": {},
          "output_type": "execute_result"
        }
      ],
      "source": [
        "df"
      ]
    },
    {
      "cell_type": "code",
      "execution_count": 38,
      "metadata": {
        "id": "La3tneC3zdNP"
      },
      "outputs": [],
      "source": [
        "# Defining the stopwords\n",
        "stopwords = nltk.corpus.stopwords.words('english') # Set di NLTK\n",
        "\n",
        "# Creation of an ad-hoc list of stopwords, inserting algo the numbers spelled out\n",
        "stopwords_adhoc = ['?','(', ')', '.', '[', ']','!', '...',\n",
        "';',\"\\`\",\"\\'\",'\\\"' , \" \", \"``\", \"\\\"\\\"\", \"\\'\\'\", \"``\", \"\\'\\'\" \"\\'s\", \"\\'ll\", \"ca\", \"n\\'t\", \"\\'m\", \"\\'re\", \"\\'ve\", \"na\", \"wan\", \"one\", \"two\", \"three\", \"four\", \"five\", \n",
        "\"six\",\"seven\", \"eight\", \"nine\", \"ten\", \"zero\", \"cos\", \"er\", \"mow\", \"go\", \"get\", \"oh\", \"love\", \"know\", \"like\", \"see\", \"make\", \"come\", \"let\", \"say\", \"take\",\n",
        "\"want\", \"would\"]\n",
        "\n",
        "# Generic punctuation\n",
        "punctuation = set(string.punctuation)\n",
        "\n",
        "# Expanding the original stopwords list\n",
        "stopwords.extend(stopwords_adhoc)\n",
        "stopwords.extend(punctuation)"
      ]
    },
    {
      "attachments": {},
      "cell_type": "markdown",
      "metadata": {},
      "source": [
        "#### Come suggerito dalla professoressa, rimuoviamo ulteriore rumore dai testi: stringhe vuote, numeri, apostrofi, virgolette, espressioni del tipo can't "
      ]
    },
    {
      "cell_type": "code",
      "execution_count": 39,
      "metadata": {},
      "outputs": [],
      "source": [
        "# Defining a function for cleaning the data\n",
        "def cleaning(data):\n",
        "    # Deleting punctuations and \\d, alias each number\n",
        "    data_strip = data.apply(lambda x: re.sub(r\"[',\\[\\]’\\d]|(o+\\s*h+|h+\\s*o+)]\", \"\", x).strip()) \n",
        "\n",
        "    # Transforming the data into a list to handle them better\n",
        "    data = list(data_strip)\n",
        "\n",
        "    # Deleting the tokens in the stopwords list\n",
        "    data_cleaned = [\n",
        "    [word for word in word_tokenize(document.lower()) if word not in stopwords]\n",
        "    for document in data ]\n",
        "\n",
        "    # Visualizing the first five instances of the cleaned data-> commented because not necessary \n",
        "    # print(\"First five instances of the cleaned data: \\n\", data_cleaned[:5])\n",
        "    return data_cleaned\n"
      ]
    },
    {
      "cell_type": "code",
      "execution_count": 40,
      "metadata": {},
      "outputs": [],
      "source": [
        "# Function to create the correct formats for gensim-> I used scikit learn as suggested, so to use min_df e max_df \n",
        "\n",
        "def formats(data):\n",
        "    # Creating a dictionary on which the model can be based\n",
        "    dictionary = corpora.Dictionary(data)\n",
        "    print(dictionary)\n",
        "\n",
        "    # Taking the id of each word\n",
        "    dictionary.token2id\n",
        "\n",
        "    # Transforming the corpus\n",
        "    corpus = [dictionary.doc2bow(text) for text in data]\n",
        "\n",
        "    # Visualizin the BOW\n",
        "    for i, doc in enumerate(corpus):\n",
        "        print(\"document:\\t\", data[i])\n",
        "        print(\"Bag-of-words:\\t\", [(dictionary[_id], freq) for _id, freq in doc])\n",
        "        print()\n",
        "\n",
        "    # Space vector\n",
        "    word_doc_matrix = gensim.matutils.corpus2dense(corpus, num_terms = len(dictionary))\n",
        "    word_doc_matrix.shape\n",
        "    return dictionary, corpus, word_doc_matrix"
      ]
    },
    {
      "cell_type": "code",
      "execution_count": 41,
      "metadata": {},
      "outputs": [],
      "source": [
        "# Function to compute tf-idf\n",
        "def tf_idf(corpus):\n",
        "\n",
        "    # Initializing the vectorizer\n",
        "    vectorizer = TfidfVectorizer(min_df=0.02, max_df=0.8)\n",
        "\n",
        "    # Fitting\n",
        "    corpus_tfidf = vectorizer.fit_transform(corpus)\n",
        "    \n",
        "    # Creating an array of feature names\n",
        "    feature_names = np.array(vectorizer.get_feature_names_out())\n",
        "\n",
        "    # Finding the averages of tfidf in the documents\n",
        "    tfidf_means = corpus_tfidf.mean(axis=0).A1\n",
        "\n",
        "    # Coupling weight and feature\n",
        "    feature_weights = dict(zip(feature_names, tfidf_means))\n",
        "\n",
        "    # Putting in order the features\n",
        "    ordered_features = dict(sorted(feature_weights.items(), key=lambda x: x[1], reverse=True))\n",
        "\n",
        "    # List of features \n",
        "    list = []\n",
        "\n",
        "    for feature, weight in ordered_features.items():\n",
        "        list.append(f\"{feature}: {weight}\")\n",
        "\n",
        "    # Printing the first five\n",
        "    print(list[:5])\n",
        "\n",
        "    return"
      ]
    },
    {
      "cell_type": "code",
      "execution_count": 42,
      "metadata": {},
      "outputs": [],
      "source": [
        "# Function to select just the texts with a specified label\n",
        "def select_emotion(dataframe, emotion):\n",
        "    canzoni_emotion = dataframe[dataframe[\"label\"] == emotion][\"canzoni_cleaned\"].apply(lambda x: \" \".join(x))\n",
        "\n",
        "    return canzoni_emotion"
      ]
    },
    {
      "cell_type": "code",
      "execution_count": 44,
      "metadata": {},
      "outputs": [],
      "source": [
        "# Cleaning of the songs\n",
        "df[\"canzoni_cleaned\"] = cleaning(df[\"lemmatized_stanzas\"])"
      ]
    },
    {
      "attachments": {},
      "cell_type": "markdown",
      "metadata": {},
      "source": [
        "### TfIdf for Anger"
      ]
    },
    {
      "cell_type": "code",
      "execution_count": 45,
      "metadata": {},
      "outputs": [],
      "source": [
        "canzoni_anger = select_emotion(df, emotion = \"anger\")"
      ]
    },
    {
      "cell_type": "code",
      "execution_count": 46,
      "metadata": {},
      "outputs": [
        {
          "name": "stdout",
          "output_type": "stream",
          "text": [
            "['never: 0.03915730899141047', 'time: 0.0379514503133797', 'way: 0.034824142004891395', 'day: 0.031495477407479364', 'back: 0.031271287370975974']\n"
          ]
        }
      ],
      "source": [
        "tf_idf(canzoni_anger)"
      ]
    },
    {
      "attachments": {},
      "cell_type": "markdown",
      "metadata": {},
      "source": [
        "### Tf-Idf for Anticipation"
      ]
    },
    {
      "cell_type": "code",
      "execution_count": 47,
      "metadata": {},
      "outputs": [],
      "source": [
        "canzoni_anticipation = select_emotion(df, emotion = \"anticipation\")"
      ]
    },
    {
      "cell_type": "code",
      "execution_count": 48,
      "metadata": {},
      "outputs": [
        {
          "name": "stdout",
          "output_type": "stream",
          "text": [
            "['time: 0.03924125007816359', 'never: 0.03478213484110286', 'feel: 0.033766074609785236', 'think: 0.0314816613208319', 'heart: 0.03094102001558523']\n"
          ]
        }
      ],
      "source": [
        "tf_idf(canzoni_anticipation)"
      ]
    },
    {
      "attachments": {},
      "cell_type": "markdown",
      "metadata": {},
      "source": [
        "### TfIdf for Disgust"
      ]
    },
    {
      "cell_type": "code",
      "execution_count": 49,
      "metadata": {},
      "outputs": [],
      "source": [
        "canzoni_disgust = select_emotion(df, emotion = \"disgust\")"
      ]
    },
    {
      "cell_type": "code",
      "execution_count": 50,
      "metadata": {},
      "outputs": [
        {
          "name": "stdout",
          "output_type": "stream",
          "text": [
            "['time: 0.03872651638086297', 'feel: 0.03626485266234802', 'heart: 0.031050196745866027', 'think: 0.030446218166038572', 'baby: 0.03038309588580218']\n"
          ]
        }
      ],
      "source": [
        "tf_idf(canzoni_disgust)"
      ]
    },
    {
      "attachments": {},
      "cell_type": "markdown",
      "metadata": {},
      "source": [
        "### Tf_Idf for Fear"
      ]
    },
    {
      "cell_type": "code",
      "execution_count": 51,
      "metadata": {},
      "outputs": [],
      "source": [
        "canzoni_fear = select_emotion(df, emotion = \"fear\")"
      ]
    },
    {
      "cell_type": "code",
      "execution_count": 52,
      "metadata": {},
      "outputs": [
        {
          "name": "stdout",
          "output_type": "stream",
          "text": [
            "['time: 0.04438673790620864', 'yeah: 0.03873958714712372', 'tell: 0.034203094612624725', 'well: 0.034182279605330684', 'think: 0.030908904306291306']\n"
          ]
        }
      ],
      "source": [
        "tf_idf(canzoni_fear)"
      ]
    },
    {
      "attachments": {},
      "cell_type": "markdown",
      "metadata": {},
      "source": [
        "### Tf-Idf for Joy"
      ]
    },
    {
      "cell_type": "code",
      "execution_count": 53,
      "metadata": {},
      "outputs": [],
      "source": [
        "canzoni_joy = select_emotion(df, emotion = \"joy\")"
      ]
    },
    {
      "cell_type": "code",
      "execution_count": 54,
      "metadata": {},
      "outputs": [
        {
          "name": "stdout",
          "output_type": "stream",
          "text": [
            "['time: 0.03654156466530168', 'never: 0.03393851495554344', 'yeah: 0.03219673942911873', 'feel: 0.03052676272822113', 'way: 0.028550268420330555']\n"
          ]
        }
      ],
      "source": [
        "tf_idf(canzoni_joy)"
      ]
    },
    {
      "attachments": {},
      "cell_type": "markdown",
      "metadata": {},
      "source": [
        "### Tf-Idf for Sadness"
      ]
    },
    {
      "cell_type": "code",
      "execution_count": 55,
      "metadata": {},
      "outputs": [],
      "source": [
        "canzoni_sadness = select_emotion(df, emotion = \"sadness\")"
      ]
    },
    {
      "cell_type": "code",
      "execution_count": 56,
      "metadata": {},
      "outputs": [
        {
          "name": "stdout",
          "output_type": "stream",
          "text": [
            "['time: 0.04367511219131114', 'feel: 0.03724794139238762', 'never: 0.032927524207345134', 'back: 0.031088001694883564', 'heart: 0.030946592818153974']\n"
          ]
        }
      ],
      "source": [
        "tf_idf(canzoni_sadness)"
      ]
    },
    {
      "attachments": {},
      "cell_type": "markdown",
      "metadata": {},
      "source": [
        "### Tf_Idf for Surprise"
      ]
    },
    {
      "cell_type": "code",
      "execution_count": 57,
      "metadata": {},
      "outputs": [],
      "source": [
        "canzoni_surprise = select_emotion(df, emotion = \"surprise\")"
      ]
    },
    {
      "cell_type": "code",
      "execution_count": 58,
      "metadata": {},
      "outputs": [
        {
          "name": "stdout",
          "output_type": "stream",
          "text": [
            "['time: 0.04041516627948955', 'never: 0.03197600452530763', 'yeah: 0.029559824018096228', 'leave: 0.029015100953756787', 'tell: 0.028716095725039314']\n"
          ]
        }
      ],
      "source": [
        "tf_idf(canzoni_surprise)"
      ]
    },
    {
      "attachments": {},
      "cell_type": "markdown",
      "metadata": {},
      "source": [
        "### Tf-Idf for Trust"
      ]
    },
    {
      "cell_type": "code",
      "execution_count": 59,
      "metadata": {},
      "outputs": [],
      "source": [
        "canzoni_trust = select_emotion(df, emotion = \"surprise\")"
      ]
    },
    {
      "cell_type": "code",
      "execution_count": 60,
      "metadata": {},
      "outputs": [
        {
          "name": "stdout",
          "output_type": "stream",
          "text": [
            "['time: 0.04041516627948955', 'never: 0.03197600452530763', 'yeah: 0.029559824018096228', 'leave: 0.029015100953756787', 'tell: 0.028716095725039314']\n"
          ]
        }
      ],
      "source": [
        "tf_idf(canzoni_trust)"
      ]
    }
  ],
  "metadata": {
    "colab": {
      "provenance": []
    },
    "kernelspec": {
      "display_name": "base",
      "language": "python",
      "name": "python3"
    },
    "language_info": {
      "codemirror_mode": {
        "name": "ipython",
        "version": 3
      },
      "file_extension": ".py",
      "mimetype": "text/x-python",
      "name": "python",
      "nbconvert_exporter": "python",
      "pygments_lexer": "ipython3",
      "version": "3.11.9"
    }
  },
  "nbformat": 4,
  "nbformat_minor": 0
}
