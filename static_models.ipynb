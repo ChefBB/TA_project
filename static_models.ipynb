{
 "cells": [
  {
   "cell_type": "code",
   "execution_count": null,
   "metadata": {},
   "outputs": [],
   "source": [
    "import pandas as pd\n",
    "\n",
    "path = '/Users/brunobarbieri/Library/CloudStorage/OneDrive-UniversityofPisa/TA_Project/data/'\n",
    "df = pd.read_csv(path + \"def_lemmatized_df.csv\")"
   ]
  },
  {
   "cell_type": "code",
   "execution_count": null,
   "metadata": {},
   "outputs": [],
   "source": [
    "from sklearn.feature_extraction.text import CountVectorizer, TfidfVectorizer\n",
    "import numpy as np\n",
    "\n",
    "\n",
    "# Step 1: Convert token lists back into space-separated strings\n",
    "# (needed for vectorizer)\n",
    "texts_str = df['lemmatized_stanzas'].apply(\n",
    "    lambda tokens: \" \".join(tokens)\n",
    ")\n",
    "\n",
    "# Step 2: Encode using CountVectorizer (Bag of Words approach)\n",
    "vectorizer = CountVectorizer()\n",
    "X_count = vectorizer.fit_transform(texts_str)\n",
    "print(\"\\nCountVectorizer Encoding (Bag of Words):\")\n",
    "print(X_count.toarray())\n",
    "\n",
    "# Step 3: Encode using TfidfVectorizer (TF-IDF approach)\n",
    "tfidf_vectorizer = TfidfVectorizer()\n",
    "X_tfidf = tfidf_vectorizer.fit_transform(texts_str)\n",
    "print(\"\\nTfidfVectorizer Encoding (TF-IDF):\")\n",
    "print(X_tfidf.toarray())\n",
    "\n",
    "# Step 4: Example using Word Embeddings (GloVe-like) for each text entry\n",
    "# Simulating word embeddings (replace this with actual embeddings like GloVe or Word2Vec)\n",
    "embedding_dim = 50  # Example embedding dimension size\n",
    "def get_word_embeddings(tokens):\n",
    "    return np.array([np.random.randn(embedding_dim) for token in tokens])\n",
    "\n",
    "word_embeddings = df['lemmatized_stanzas'].apply(get_word_embeddings)\n",
    "\n",
    "print(\"\\nWord Embedding Encoding (Random GloVe-like vectors):\")\n",
    "print(word_embeddings)"
   ]
  }
 ],
 "metadata": {
  "kernelspec": {
   "display_name": "Python 3",
   "language": "python",
   "name": "python3"
  },
  "language_info": {
   "name": "python",
   "version": "3.11.1"
  }
 },
 "nbformat": 4,
 "nbformat_minor": 2
}
